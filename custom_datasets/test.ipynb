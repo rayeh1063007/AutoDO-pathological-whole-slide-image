{
 "cells": [
  {
   "cell_type": "code",
   "execution_count": 15,
   "metadata": {},
   "outputs": [],
   "source": [
    "from PIL import Image\n",
    "import os\n",
    "import os.path\n",
    "from numpy import asarray\n",
    "import numpy as np\n",
    "import glob\n",
    "from keras.preprocessing.image import load_img\n",
    "from keras.preprocessing.image import img_to_array"
   ]
  },
  {
   "cell_type": "code",
   "execution_count": 31,
   "metadata": {},
   "outputs": [],
   "source": [
    "train_data = []\n",
    "train_target = []\n",
    "path = '/home/rayeh/workspace/project/med/data/chest_xray'\n",
    "train_path = os.path.join(path,'test')\n",
    "normal_path = os.path.join(train_path,'NORMAL')\n",
    "for data_path in glob.glob(os.path.join(normal_path,'*')):\n",
    "    data = img_to_array(load_img(data_path,target_size = (128,128)))\n",
    "    train_data.append(data)\n",
    "    train_target.append(0)\n",
    "    \n",
    "train_data = np.array(train_data)\n",
    "train_target = np.array(train_target)"
   ]
  },
  {
   "cell_type": "code",
   "execution_count": 32,
   "metadata": {},
   "outputs": [
    {
     "name": "stdout",
     "output_type": "stream",
     "text": [
      "(234, 128, 128, 3)\n"
     ]
    }
   ],
   "source": [
    "print(train_data.shape)"
   ]
  },
  {
   "cell_type": "code",
   "execution_count": 34,
   "metadata": {},
   "outputs": [
    {
     "name": "stdout",
     "output_type": "stream",
     "text": [
      "(128, 128, 3)\n",
      "<class 'PIL.Image.Image'>\n",
      "(128, 128)\n"
     ]
    }
   ],
   "source": [
    "img = train_data[0]\n",
    "print(img.shape)\n",
    "img = Image.fromarray(np.uint8(img))\n",
    "print(type(img))\n",
    "print(img.size)\n",
    "img.show()"
   ]
  }
 ],
 "metadata": {
  "kernelspec": {
   "display_name": "Python 3.6.13 ('autodo')",
   "language": "python",
   "name": "python3"
  },
  "language_info": {
   "codemirror_mode": {
    "name": "ipython",
    "version": 3
   },
   "file_extension": ".py",
   "mimetype": "text/x-python",
   "name": "python",
   "nbconvert_exporter": "python",
   "pygments_lexer": "ipython3",
   "version": "3.6.13"
  },
  "orig_nbformat": 4,
  "vscode": {
   "interpreter": {
    "hash": "ab1c5bcb2e12e60572765b72c297d9973a4d1aa919b4c84abd79a2f642f5ee12"
   }
  }
 },
 "nbformat": 4,
 "nbformat_minor": 2
}
